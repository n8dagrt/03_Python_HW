{
 "cells": [
  {
   "cell_type": "code",
   "execution_count": 14,
   "metadata": {},
   "outputs": [],
   "source": [
    "#Goals to Calculate for Pybank Challenge\n",
    "\n",
    "#1 The total number of months included in the dataset\n",
    "\n",
    "#2 The total net amount of \"Profit/Losses\" over the entire period\n",
    "\n",
    "#3 The average change in \"Profit/Losses\" between months over the entire period\n",
    "\n",
    "#4  The greatest increase in profits (date and amount) over the entire period\n",
    "\n",
    "#5 The greatest decrease in losses (date and amount) over the entire period"
   ]
  },
  {
   "cell_type": "code",
   "execution_count": 21,
   "metadata": {},
   "outputs": [],
   "source": [
    "#Step 1 Load Dependencies:\n",
    "\n",
    "import csv\n",
    "import os"
   ]
  },
  {
   "cell_type": "code",
   "execution_count": 22,
   "metadata": {},
   "outputs": [],
   "source": [
    "# Step 2 Load the files\n",
    "\n",
    "file_to_load = os.path.join(\"Resources\", \"budget_data.csv\")\n",
    "file_to_output = os.path.join(\"Output_Analysis\", \"final_analysis.txt\")"
   ]
  },
  {
   "cell_type": "code",
   "execution_count": 23,
   "metadata": {},
   "outputs": [],
   "source": [
    "# Creatie Variables to track Financials\n",
    "\n",
    "allmonths = 0\n",
    "monthschange = []\n",
    "netchange = []\n",
    "biggestincrease = [\"\", 0]\n",
    "biggestdecrease = [\"\", 9999999999999999999]\n",
    "totalnetchange = 0"
   ]
  },
  {
   "cell_type": "code",
   "execution_count": 24,
   "metadata": {},
   "outputs": [],
   "source": [
    "# Load CSV and Create Dictionaries\n",
    "\n",
    "\n",
    "with open(file_to_load) as financial_data:\n",
    "    reader = csv.reader(financial_data)\n",
    "\n",
    "    # Read the header row\n",
    "    header = next(reader)\n",
    "\n",
    "    # Extract first row to avoid appending to netchange\n",
    "    first_row = next(reader)\n",
    "    allmonths = allmonths + 1\n",
    "    totalnetchange = totalnetchange + int(first_row[1])\n",
    "    prev_net = int(first_row[1])\n",
    "\n",
    "    for row in reader:\n",
    "\n",
    "        # Track the total\n",
    "        allmonths = allmonths + 1\n",
    "        totalnetchange = totalnetchange + int(row[1])\n",
    "\n",
    "        # Track the net change\n",
    "        net_change = int(row[1]) - prev_net\n",
    "        prev_net = int(row[1])\n",
    "        netchange = netchange + [net_change]\n",
    "        monthschange = monthschange + [row[0]]\n",
    "\n",
    "        # Calculate the greatest increase\n",
    "        if net_change > biggestincrease[1]:\n",
    "            biggestincrease[0] = row[0]\n",
    "            biggestincrease[1] = net_change\n",
    "\n",
    "        # Calculate the greatest decrease\n",
    "        if net_change < biggestdecrease[1]:\n",
    "            biggestdecrease[0] = row[0]\n",
    "            biggestdecrease[1] = net_change"
   ]
  },
  {
   "cell_type": "code",
   "execution_count": 25,
   "metadata": {},
   "outputs": [],
   "source": [
    "# Funtion to Calculate Average Net Change\n",
    "\n",
    "totalmonthlyavg = sum(netchange) / len(netchange)"
   ]
  },
  {
   "cell_type": "code",
   "execution_count": 27,
   "metadata": {},
   "outputs": [],
   "source": [
    "# Print the Data\n",
    "\n",
    "output = (\n",
    "    f\"\\nFinal Analysis\\n\"\n",
    "    f\"----------------------------\\n\"\n",
    "    f\"Total Months: {allmonths}\\n\"\n",
    "    f\"Total: ${totalnetchange}\\n\"\n",
    "    f\"Average  Change: ${totalmonthlyavg:.2f}\\n\"\n",
    "    f\"Greatest Increase in Profits: {biggestincrease[0]} (${biggestincrease[1]})\\n\"\n",
    "    f\"Greatest Decrease in Profits: {biggestdecrease[0]} (${biggestdecrease[1]})\\n\")"
   ]
  },
  {
   "cell_type": "code",
   "execution_count": 28,
   "metadata": {},
   "outputs": [],
   "source": [
    "#Print out the results in Text File\n",
    "\n",
    "with open(file_to_output, \"w\") as txt_file:\n",
    "    txt_file.write(output)"
   ]
  }
 ],
 "metadata": {
  "kernelspec": {
   "display_name": "Python [conda env:pythondata]",
   "language": "python",
   "name": "conda-env-pythondata-py"
  },
  "language_info": {
   "codemirror_mode": {
    "name": "ipython",
    "version": 3
   },
   "file_extension": ".py",
   "mimetype": "text/x-python",
   "name": "python",
   "nbconvert_exporter": "python",
   "pygments_lexer": "ipython3",
   "version": "3.6.8"
  }
 },
 "nbformat": 4,
 "nbformat_minor": 2
}
